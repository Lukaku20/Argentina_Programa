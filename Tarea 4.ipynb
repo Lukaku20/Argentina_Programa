{
 "cells": [
  {
   "cell_type": "markdown",
   "id": "78e245e6",
   "metadata": {},
   "source": [
    "### Tarea P4 Fundamentos para Pyhton - Vectores, Arrays y Numpy"
   ]
  },
  {
   "cell_type": "code",
   "execution_count": 1,
   "id": "20a7d70a",
   "metadata": {},
   "outputs": [],
   "source": [
    "#Crear un Array de Enteros"
   ]
  },
  {
   "cell_type": "code",
   "execution_count": 2,
   "id": "7a82f2a9",
   "metadata": {},
   "outputs": [
    {
     "name": "stdout",
     "output_type": "stream",
     "text": [
      "array('i', [1, 15, 45, 95])\n"
     ]
    }
   ],
   "source": [
    "import array as arr \n",
    "mi_array = arr.array('i',[1,15,45,95])\n",
    "print(mi_array)"
   ]
  },
  {
   "cell_type": "code",
   "execution_count": 1,
   "id": "b11ce1ca",
   "metadata": {},
   "outputs": [
    {
     "name": "stdout",
     "output_type": "stream",
     "text": [
      "Indique un dato: 3,15,23\n",
      "Dato ingresado es una cadena\n"
     ]
    }
   ],
   "source": [
    "dato = input(\"Indique un dato: \")\n",
    "\n",
    "def una_coma(cadena):\n",
    "\n",
    "    contador_comas = 0\n",
    "\n",
    "    for caracter in cadena:\n",
    "\n",
    "        if caracter == ',':\n",
    "\n",
    "            contador_comas += 1\n",
    "\n",
    "            if contador_comas > 1:\n",
    "\n",
    "                return False\n",
    "\n",
    "    if contador_comas == 1:\n",
    "\n",
    "        return True\n",
    "\n",
    "    else:\n",
    "\n",
    "        return False\n",
    "\n",
    "try:\n",
    "\n",
    "    num = float(dato)\n",
    "\n",
    "    if elemento.startswith('-') or num.is_integer():\n",
    "\n",
    "        print(\"Dato ingresado es un número entero\")\n",
    "\n",
    "    else:\n",
    "\n",
    "        print(\"Dato ingresado es un número con decimales\")\n",
    "\n",
    "except ValueError:\n",
    "\n",
    "    if una_coma(dato):\n",
    "\n",
    "        print(\"Dato ingresado es número con decimales\")\n",
    "\n",
    "    else:\n",
    "\n",
    "        print(\"Dato ingresado es una cadena\")\n",
    "        "
   ]
  },
  {
   "cell_type": "code",
   "execution_count": 6,
   "id": "5c3c1714",
   "metadata": {},
   "outputs": [
    {
     "name": "stdout",
     "output_type": "stream",
     "text": [
      "Luc\n",
      "lo\n"
     ]
    }
   ],
   "source": [
    "nombre = 'Lucas Carballo'\n",
    "print(nombre[:3])\n",
    "\n",
    "print(nombre[-2:])"
   ]
  },
  {
   "cell_type": "code",
   "execution_count": 15,
   "id": "f3f50965",
   "metadata": {},
   "outputs": [
    {
     "name": "stdout",
     "output_type": "stream",
     "text": [
      "['C', 'a', 'l', 'e', 'i', 'd', 'o', 's', 'c', 'o', 'p', 'i', 'o']\n",
      "['o', 'i', 'p', 'o', 'c', 's', 'o', 'd', 'i', 'e', 'l', 'a', 'C']\n"
     ]
    },
    {
     "data": {
      "text/plain": [
       "'oipocsodielaC'"
      ]
     },
     "execution_count": 15,
     "metadata": {},
     "output_type": "execute_result"
    }
   ],
   "source": [
    "#creo lista a partir de una cadena\n",
    "aux = 'Caleidoscopio'\n",
    "lista = list(aux)\n",
    "print(lista)\n",
    "#invierto la lista\n",
    "lista.reverse()\n",
    "print(lista)\n",
    "#convierto lista en cadena\n",
    "texto_reverso = ''.join(lista)\n",
    "texto_reverso\n"
   ]
  },
  {
   "cell_type": "code",
   "execution_count": 17,
   "id": "5616c0f9",
   "metadata": {},
   "outputs": [
    {
     "data": {
      "text/plain": [
       "5"
      ]
     },
     "execution_count": 17,
     "metadata": {},
     "output_type": "execute_result"
    }
   ],
   "source": [
    "#crear funcion SUMA\n",
    "def sumar(a,b):\n",
    "    return a + b\n",
    "\n",
    "sumar(2,3)"
   ]
  },
  {
   "cell_type": "code",
   "execution_count": 21,
   "id": "f9aa9007",
   "metadata": {},
   "outputs": [
    {
     "name": "stdout",
     "output_type": "stream",
     "text": [
      "Vamos Argentina todavia ! "
     ]
    }
   ],
   "source": [
    "def imprimirSecuencia(*args):\n",
    "    for arg in args:\n",
    "        print(arg, end =' ')\n",
    "\n",
    "imprimirSecuencia('Vamos','Argentina','todavia', '!')"
   ]
  },
  {
   "cell_type": "code",
   "execution_count": 25,
   "id": "22f9dd0e",
   "metadata": {},
   "outputs": [
    {
     "data": {
      "text/plain": [
       "120"
      ]
     },
     "execution_count": 25,
     "metadata": {},
     "output_type": "execute_result"
    }
   ],
   "source": [
    "#funcion para calcular factorial de n\n",
    "def factorial(n):\n",
    "    if n == 0:\n",
    "        return 1\n",
    "    else:\n",
    "        return n*factorial(n-1)\n",
    "  \n",
    "factorial(5)"
   ]
  },
  {
   "cell_type": "code",
   "execution_count": 1,
   "id": "2974a712",
   "metadata": {},
   "outputs": [
    {
     "name": "stdout",
     "output_type": "stream",
     "text": [
      "nombre: Lucas\n",
      "\n"
     ]
    }
   ],
   "source": [
    "#funcion para formatear un diccionario\n",
    "def formatearDicc(diccionario):\n",
    "    cadena = \"\"\n",
    "    for clave, valor in diccionario.items():\n",
    "        cadena += f\"{clave}: {valor}\\n\"\n",
    "        return cadena\n",
    "    \n",
    "diccionario={\"nombre\": \"Lucas\", \"edad\" : 34, \"ciudad\" : \"Mendoza\"}\n",
    "print(formatearDicc(diccionario))"
   ]
  },
  {
   "cell_type": "code",
   "execution_count": 29,
   "id": "da734e70",
   "metadata": {},
   "outputs": [
    {
     "name": "stdout",
     "output_type": "stream",
     "text": [
      "Ingresa un numero22\n",
      "El numero qu ingresaste es: 22\n"
     ]
    }
   ],
   "source": [
    "# Pedir al usuario que ingrese un número y manejar\n",
    "#cualquier excepción que se produzca\n",
    "\n",
    "try:\n",
    "    numero=int(input('Ingresa un numero'))\n",
    "    print('El numero que ingresaste es:', numero)\n",
    "except ValueError:\n",
    "    print('lo que ingresaste no fue un numero')"
   ]
  },
  {
   "cell_type": "code",
   "execution_count": 30,
   "id": "e993dbf9",
   "metadata": {},
   "outputs": [
    {
     "name": "stdout",
     "output_type": "stream",
     "text": [
      "[1 3 5 7 9]\n"
     ]
    }
   ],
   "source": [
    "import numpy as nm\n",
    "a = nm.array([1,3,5,7,9])\n",
    "print(a)"
   ]
  },
  {
   "cell_type": "code",
   "execution_count": 31,
   "id": "ac2decd8",
   "metadata": {},
   "outputs": [
    {
     "name": "stdout",
     "output_type": "stream",
     "text": [
      "[-22   4  10]\n"
     ]
    }
   ],
   "source": [
    "v1 = nm.array([3,4,5])\n",
    "v2 = nm.array([2,6,2])\n",
    "producto_cruz = nm.cross(v1, v2)\n",
    "print(producto_cruz)"
   ]
  },
  {
   "cell_type": "code",
   "execution_count": 32,
   "id": "b4b6c480",
   "metadata": {},
   "outputs": [
    {
     "name": "stdout",
     "output_type": "stream",
     "text": [
      "5.0\n"
     ]
    }
   ],
   "source": [
    "#calcular la media de un conjunto\n",
    "media = nm.mean(a)\n",
    "print(media)"
   ]
  },
  {
   "cell_type": "code",
   "execution_count": 33,
   "id": "caed7f96",
   "metadata": {},
   "outputs": [
    {
     "name": "stdout",
     "output_type": "stream",
     "text": [
      "<class 'float'>\n"
     ]
    }
   ],
   "source": [
    "a = 5\n",
    "b = 3.5\n",
    "c= a+b\n",
    "print(type(c))"
   ]
  },
  {
   "cell_type": "code",
   "execution_count": 34,
   "id": "f5f3975b",
   "metadata": {},
   "outputs": [
    {
     "name": "stdout",
     "output_type": "stream",
     "text": [
      "Dato ingresado es un número entero\n"
     ]
    }
   ],
   "source": [
    "dato = -10\n",
    "\n",
    "def una_coma(cadena):\n",
    "\n",
    "    contador_comas = 0\n",
    "\n",
    "    for caracter in cadena:\n",
    "\n",
    "        if caracter == ',':\n",
    "\n",
    "            contador_comas += 1\n",
    "\n",
    "            if contador_comas > 1:\n",
    "\n",
    "                return False\n",
    "\n",
    "    if contador_comas == 1:\n",
    "\n",
    "        return True\n",
    "\n",
    "    else:\n",
    "\n",
    "        return False\n",
    "\n",
    "try:\n",
    "\n",
    "    num = float(dato)\n",
    "\n",
    "    if num.is_integer():\n",
    "\n",
    "        print(\"Dato ingresado es un número entero\")\n",
    "\n",
    "    else:\n",
    "\n",
    "        print(\"Dato ingresado es un número con decimales\")\n",
    "\n",
    "except ValueError:\n",
    "\n",
    "    if una_coma(dato):\n",
    "\n",
    "        print(\"Dato ingresado es número con decimales\")\n",
    "\n",
    "    else:\n",
    "\n",
    "        print(\"Dato ingresado es una cadena\")"
   ]
  },
  {
   "cell_type": "code",
   "execution_count": 37,
   "id": "1e9dad16",
   "metadata": {},
   "outputs": [
    {
     "name": "stdout",
     "output_type": "stream",
     "text": [
      "1\n",
      "2\n",
      "Multiplo de 3\n",
      "4\n",
      "Multiplo de 5\n",
      "Multiplo de 3\n",
      "7\n",
      "8\n",
      "Multiplo de 3\n",
      "Multiplo de 5\n",
      "11\n",
      "Multiplo de 3\n",
      "13\n",
      "14\n",
      "Es multiplo de ambos, de 3 y de 5\n",
      "16\n",
      "17\n",
      "Multiplo de 3\n",
      "19\n",
      "Multiplo de 5\n",
      "Multiplo de 3\n",
      "22\n"
     ]
    }
   ],
   "source": [
    "for i in range(1, 23):\n",
    "    if i%3 == 0 and i % 5 ==0:\n",
    "        print('Es multiplo de ambos, de 3 y de 5')\n",
    "    elif i % 3 == 0 :\n",
    "        print('Multiplo de 3')\n",
    "    elif i % 5 == 0 :\n",
    "        print('Multiplo de 5')\n",
    "    else:\n",
    "        print(i)"
   ]
  },
  {
   "cell_type": "code",
   "execution_count": 10,
   "id": "07a51e4c",
   "metadata": {},
   "outputs": [
    {
     "name": "stdout",
     "output_type": "stream",
     "text": [
      "Mi conjunto es: \n",
      "[ 2  6  9 10  5]\n",
      "La media de mi conjunto es:\n",
      "6.4\n"
     ]
    }
   ],
   "source": [
    "#Calcular media de un conjunto\n",
    "import numpy as np\n",
    "\n",
    "my_set = np.array([2,6,9,10,5])\n",
    "print('Mi conjunto es: ')\n",
    "print(my_set)\n",
    "print('La media de mi conjunto es:')\n",
    "media = np.mean(my_set)\n",
    "print(media)"
   ]
  },
  {
   "cell_type": "code",
   "execution_count": 12,
   "id": "3d89192c",
   "metadata": {},
   "outputs": [
    {
     "name": "stdout",
     "output_type": "stream",
     "text": [
      "La mediana de mi conjunto es:\n",
      "6.0\n"
     ]
    }
   ],
   "source": [
    "#Calcular la mediana del conjunto\n",
    "mediana = np.median(my_set)\n",
    "print('La mediana de mi conjunto es:')\n",
    "print(mediana)"
   ]
  },
  {
   "cell_type": "code",
   "execution_count": 13,
   "id": "505e82a7",
   "metadata": {},
   "outputs": [
    {
     "name": "stdout",
     "output_type": "stream",
     "text": [
      "La desviacion estandar es:\n",
      "2.8705400188814645\n"
     ]
    }
   ],
   "source": [
    "#Calcular la desviación estandar\n",
    "desv_estandar = np.std(my_set)\n",
    "print('La desviacion estandar es:')\n",
    "print(desv_estandar)"
   ]
  },
  {
   "cell_type": "code",
   "execution_count": 15,
   "id": "7acd740b",
   "metadata": {},
   "outputs": [
    {
     "name": "stdout",
     "output_type": "stream",
     "text": [
      "['manzana', 'banana', 'naranja', 'sandia', 'kiwi', 'melon', 'mandarina', 'pomelo', 'pera', 'manzana', 'naranja', 'banana']\n",
      "['manzana' 'banana' 'naranja' 'sandia' 'kiwi' 'melon' 'mandarina' 'pomelo'\n",
      " 'pera' 'manzana' 'naranja' 'banana']\n",
      "['banana' 'kiwi' 'mandarina' 'manzana' 'melon' 'naranja' 'pera' 'pomelo'\n",
      " 'sandia']\n",
      "banana:2\n",
      "kiwi:1\n",
      "mandarina:1\n",
      "manzana:2\n",
      "melon:1\n",
      "naranja:2\n",
      "pera:1\n",
      "pomelo:1\n",
      "sandia:1\n"
     ]
    }
   ],
   "source": [
    "frutas = ['manzana', 'banana', 'naranja', 'sandia', 'kiwi', 'melon', 'mandarina', 'pomelo', 'pera', 'manzana', 'naranja', 'banana']\n",
    "print(frutas)\n",
    "#convertir lista en matriz\n",
    "matriz_frutas = np.array(frutas)\n",
    "print(matriz_frutas)\n",
    "#obtener los valores unicos de la matriz\n",
    "frutas_unicas = np.unique(matriz_frutas)\n",
    "print(frutas_unicas)\n",
    "#obtener cantidad de cada fruta en la matriz\n",
    "for frutas in frutas_unicas:\n",
    "    cantidad = np.count_nonzero(matriz_frutas==frutas)\n",
    "    print(f\"{frutas}:{cantidad}\")\n",
    "    \n",
    "    "
   ]
  },
  {
   "cell_type": "code",
   "execution_count": null,
   "id": "427dd49d",
   "metadata": {},
   "outputs": [],
   "source": []
  }
 ],
 "metadata": {
  "kernelspec": {
   "display_name": "Python 3 (ipykernel)",
   "language": "python",
   "name": "python3"
  },
  "language_info": {
   "codemirror_mode": {
    "name": "ipython",
    "version": 3
   },
   "file_extension": ".py",
   "mimetype": "text/x-python",
   "name": "python",
   "nbconvert_exporter": "python",
   "pygments_lexer": "ipython3",
   "version": "3.9.13"
  }
 },
 "nbformat": 4,
 "nbformat_minor": 5
}
