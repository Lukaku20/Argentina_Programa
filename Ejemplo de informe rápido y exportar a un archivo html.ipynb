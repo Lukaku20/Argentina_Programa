{
 "cells": [
  {
   "cell_type": "markdown",
   "id": "badd903b",
   "metadata": {},
   "source": [
    "# Análisis exploratorio de datos con ydata-profiling\n",
    "\n",
    "Es un módulo open source de Python con el que podemos hacer rápidamente un análisis exploratorio de datos con solo unas pocas líneas de código. Nos genera un informe con toda la información fácilmente visible y nos ayuda a visualizar y entender la distribución de cada variable, al mismo tiempo permite exportar el análisis de datos en diferentes formatos, como html y json."
   ]
  },
  {
   "cell_type": "code",
   "execution_count": null,
   "id": "f3cbbd28",
   "metadata": {},
   "outputs": [],
   "source": [
    "'''Características del informe\n",
    "\n",
    "Inferencia de tipos: detección automática de los tipos de datos de las columnas (Categorical, Numerical, Date, etc.)\n",
    "\n",
    "Advertencias: un resumen de los problemas/desafíos en los datos en los que podría necesitar trabajar (datos faltantes, inexactitudes, asimetría, etc.)\n",
    "\n",
    "Análisis univariado: incluye estadísticas descriptivas (media, mediana, moda, etc.) y visualizaciones informativas como histogramas de distribución\n",
    "\n",
    "Análisis multivariado: incluidas las correlaciones, un análisis detallado de los datos faltantes, filas duplicadas y soporte visual para la interacción de pares de variables\n",
    "\n",
    "Serie temporal: incluye información estadística diferente relativa a los datos dependientes del tiempo, como la autocorrelación y la estacionalidad, a lo largo de los gráficos ACF y PACF.\n",
    "\n",
    "Análisis de texto: categorías más comunes (mayúsculas, minúsculas, separador), escrituras (latín, cirílico) y bloques (ASCII, cirílico)\n",
    "\n",
    "Análisis de archivos e imágenes: tamaños de archivos, fechas de creación, dimensiones, indicación de imágenes truncadas y existencia de metadatos EXIF\n",
    "\n",
    "Comparar conjuntos de datos: solución de una línea para habilitar un informe rápido y completo sobre la comparación de conjuntos de datos\n",
    "\n",
    "Formatos de salida flexibles: todos los análisis se pueden exportar a un informe HTML que se puede compartir fácilmente con diferentes partes, como JSON para una fácil integración en sistemas automatizados y como widget en un Jupyter Notebook.\n",
    "\n",
    "El informe contiene tres secciones adicionales:\n",
    "\n",
    "Descripción general: en su mayoría detalles globales sobre el conjunto de datos (número de registros, número de variables, fallas generales y duplicados, huella de memoria)\n",
    "\n",
    "Alertas: una lista completa y automática de posibles problemas de calidad de datos (alta correlación, asimetría, uniformidad, ceros, valores faltantes, valores constantes, entre otros)\n",
    "\n",
    "Reproducción: detalles técnicos sobre el análisis (tiempo, versión y configuración)'''"
   ]
  },
  {
   "cell_type": "code",
   "execution_count": 7,
   "id": "a1f4e6ad",
   "metadata": {},
   "outputs": [
    {
     "name": "stdout",
     "output_type": "stream",
     "text": [
      "Collecting ydata-profiling\n",
      "  Downloading ydata_profiling-4.0.0-py2.py3-none-any.whl (344 kB)\n",
      "Requirement already satisfied: pandas!=1.4.0,<1.6,>1.1 in c:\\users\\anahi\\anaconda3\\lib\\site-packages (from ydata-profiling) (1.3.4)\n",
      "Requirement already satisfied: htmlmin==0.1.12 in c:\\users\\anahi\\appdata\\roaming\\python\\python39\\site-packages (from ydata-profiling) (0.1.12)\n",
      "Collecting typeguard<2.14,>=2.13.2\n",
      "  Downloading typeguard-2.13.3-py3-none-any.whl (17 kB)\n",
      "Requirement already satisfied: seaborn<0.13,>=0.10.1 in c:\\users\\anahi\\anaconda3\\lib\\site-packages (from ydata-profiling) (0.11.2)\n",
      "Requirement already satisfied: phik<0.13,>=0.11.1 in c:\\users\\anahi\\appdata\\roaming\\python\\python39\\site-packages (from ydata-profiling) (0.12.2)\n",
      "Requirement already satisfied: tqdm<4.65,>=4.48.2 in c:\\users\\anahi\\anaconda3\\lib\\site-packages (from ydata-profiling) (4.62.3)\n",
      "Requirement already satisfied: matplotlib<3.7,>=3.2 in c:\\users\\anahi\\anaconda3\\lib\\site-packages (from ydata-profiling) (3.4.3)\n",
      "Collecting visions[type_image_path]==0.7.5\n",
      "  Downloading visions-0.7.5-py3-none-any.whl (102 kB)\n",
      "Requirement already satisfied: pydantic<1.11,>=1.8.1 in c:\\users\\anahi\\appdata\\roaming\\python\\python39\\site-packages (from ydata-profiling) (1.9.1)\n",
      "Requirement already satisfied: jinja2<3.2,>=2.11.1 in c:\\users\\anahi\\anaconda3\\lib\\site-packages (from ydata-profiling) (2.11.3)\n",
      "Requirement already satisfied: requests<2.29,>=2.24.0 in c:\\users\\anahi\\anaconda3\\lib\\site-packages (from ydata-profiling) (2.26.0)\n",
      "Requirement already satisfied: multimethod<1.10,>=1.4 in c:\\users\\anahi\\anaconda3\\lib\\site-packages (from ydata-profiling) (1.8)\n",
      "Collecting statsmodels<0.14,>=0.13.2\n",
      "  Downloading statsmodels-0.13.5-cp39-cp39-win_amd64.whl (9.2 MB)\n",
      "Requirement already satisfied: scipy<1.10,>=1.4.1 in c:\\users\\anahi\\anaconda3\\lib\\site-packages (from ydata-profiling) (1.7.1)\n",
      "Requirement already satisfied: numpy<1.24,>=1.16.0 in c:\\users\\anahi\\anaconda3\\lib\\site-packages (from ydata-profiling) (1.20.3)\n",
      "Requirement already satisfied: PyYAML<6.1,>=5.0.0 in c:\\users\\anahi\\anaconda3\\lib\\site-packages (from ydata-profiling) (6.0)\n",
      "Requirement already satisfied: tangled-up-in-unicode>=0.0.4 in c:\\users\\anahi\\anaconda3\\lib\\site-packages (from visions[type_image_path]==0.7.5->ydata-profiling) (0.2.0)\n",
      "Requirement already satisfied: networkx>=2.4 in c:\\users\\anahi\\anaconda3\\lib\\site-packages (from visions[type_image_path]==0.7.5->ydata-profiling) (2.6.3)\n",
      "Requirement already satisfied: attrs>=19.3.0 in c:\\users\\anahi\\anaconda3\\lib\\site-packages (from visions[type_image_path]==0.7.5->ydata-profiling) (21.2.0)\n",
      "Requirement already satisfied: imagehash in c:\\users\\anahi\\appdata\\roaming\\python\\python39\\site-packages (from visions[type_image_path]==0.7.5->ydata-profiling) (4.2.1)\n",
      "Requirement already satisfied: Pillow in c:\\users\\anahi\\anaconda3\\lib\\site-packages (from visions[type_image_path]==0.7.5->ydata-profiling) (8.4.0)\n",
      "Requirement already satisfied: MarkupSafe>=0.23 in c:\\users\\anahi\\anaconda3\\lib\\site-packages (from jinja2<3.2,>=2.11.1->ydata-profiling) (2.1.1)\n",
      "Requirement already satisfied: cycler>=0.10 in c:\\users\\anahi\\anaconda3\\lib\\site-packages (from matplotlib<3.7,>=3.2->ydata-profiling) (0.10.0)\n",
      "Requirement already satisfied: pyparsing>=2.2.1 in c:\\users\\anahi\\anaconda3\\lib\\site-packages (from matplotlib<3.7,>=3.2->ydata-profiling) (3.0.4)\n",
      "Requirement already satisfied: kiwisolver>=1.0.1 in c:\\users\\anahi\\anaconda3\\lib\\site-packages (from matplotlib<3.7,>=3.2->ydata-profiling) (1.3.1)\n",
      "Requirement already satisfied: python-dateutil>=2.7 in c:\\users\\anahi\\anaconda3\\lib\\site-packages (from matplotlib<3.7,>=3.2->ydata-profiling) (2.8.2)\n",
      "Requirement already satisfied: six in c:\\users\\anahi\\anaconda3\\lib\\site-packages (from cycler>=0.10->matplotlib<3.7,>=3.2->ydata-profiling) (1.16.0)\n",
      "Requirement already satisfied: pytz>=2017.3 in c:\\users\\anahi\\anaconda3\\lib\\site-packages (from pandas!=1.4.0,<1.6,>1.1->ydata-profiling) (2021.3)\n",
      "Requirement already satisfied: joblib>=0.14.1 in c:\\users\\anahi\\anaconda3\\lib\\site-packages (from phik<0.13,>=0.11.1->ydata-profiling) (1.1.0)\n",
      "Requirement already satisfied: typing-extensions>=3.7.4.3 in c:\\users\\anahi\\anaconda3\\lib\\site-packages (from pydantic<1.11,>=1.8.1->ydata-profiling) (3.10.0.2)\n",
      "Requirement already satisfied: idna<4,>=2.5 in c:\\users\\anahi\\anaconda3\\lib\\site-packages (from requests<2.29,>=2.24.0->ydata-profiling) (3.2)\n",
      "Requirement already satisfied: charset-normalizer~=2.0.0 in c:\\users\\anahi\\anaconda3\\lib\\site-packages (from requests<2.29,>=2.24.0->ydata-profiling) (2.0.4)\n",
      "Requirement already satisfied: urllib3<1.27,>=1.21.1 in c:\\users\\anahi\\anaconda3\\lib\\site-packages (from requests<2.29,>=2.24.0->ydata-profiling) (1.26.7)\n",
      "Requirement already satisfied: certifi>=2017.4.17 in c:\\users\\anahi\\anaconda3\\lib\\site-packages (from requests<2.29,>=2.24.0->ydata-profiling) (2022.6.15)\n",
      "Requirement already satisfied: patsy>=0.5.2 in c:\\users\\anahi\\anaconda3\\lib\\site-packages (from statsmodels<0.14,>=0.13.2->ydata-profiling) (0.5.2)\n",
      "Collecting packaging>=21.3\n",
      "  Downloading packaging-23.0-py3-none-any.whl (42 kB)\n",
      "Requirement already satisfied: colorama in c:\\users\\anahi\\anaconda3\\lib\\site-packages (from tqdm<4.65,>=4.48.2->ydata-profiling) (0.4.4)\n",
      "Requirement already satisfied: PyWavelets in c:\\users\\anahi\\anaconda3\\lib\\site-packages (from imagehash->visions[type_image_path]==0.7.5->ydata-profiling) (1.1.1)\n",
      "Installing collected packages: visions, packaging, typeguard, statsmodels, ydata-profiling\n",
      "  Attempting uninstall: visions\n",
      "    Found existing installation: visions 0.7.4\n",
      "    Uninstalling visions-0.7.4:\n",
      "      Successfully uninstalled visions-0.7.4Note: you may need to restart the kernel to use updated packages.\n",
      "\n",
      "  Attempting uninstall: packaging\n",
      "    Found existing installation: packaging 21.0\n",
      "    Uninstalling packaging-21.0:\n",
      "      Successfully uninstalled packaging-21.0\n",
      "  Attempting uninstall: statsmodels\n",
      "    Found existing installation: statsmodels 0.12.2\n",
      "    Uninstalling statsmodels-0.12.2:\n",
      "      Successfully uninstalled statsmodels-0.12.2\n"
     ]
    },
    {
     "name": "stderr",
     "output_type": "stream",
     "text": [
      "ERROR: pip's dependency resolver does not currently take into account all the packages that are installed. This behaviour is the source of the following dependency conflicts.\n",
      "pandas-profiling 3.2.0 requires visions[type_image_path]==0.7.4, but you have visions 0.7.5 which is incompatible.\n"
     ]
    },
    {
     "name": "stdout",
     "output_type": "stream",
     "text": [
      "Successfully installed packaging-23.0 statsmodels-0.13.5 typeguard-2.13.3 visions-0.7.5 ydata-profiling-4.0.0\n"
     ]
    }
   ],
   "source": [
    "pip install ydata-profiling"
   ]
  },
  {
   "cell_type": "code",
   "execution_count": 23,
   "id": "0f921095",
   "metadata": {},
   "outputs": [],
   "source": [
    "import numpy as np\n",
    "import pandas as pd\n",
    "from ydata_profiling import ProfileReport"
   ]
  },
  {
   "cell_type": "code",
   "execution_count": 24,
   "id": "04485606",
   "metadata": {},
   "outputs": [
    {
     "data": {
      "application/vnd.jupyter.widget-view+json": {
       "model_id": "9610fc4d5bec495c88523e12a0583d6b",
       "version_major": 2,
       "version_minor": 0
      },
      "text/plain": [
       "Export report to file:   0%|          | 0/1 [00:00<?, ?it/s]"
      ]
     },
     "metadata": {},
     "output_type": "display_data"
    }
   ],
   "source": [
    "df = pd.DataFrame(np.random.rand(100, 5), columns=[\"a\", \"b\", \"c\", \"d\", \"e\"])\n",
    "profile = ProfileReport(df, title=\"Profiling Report\")\n",
    "profile.to_file(\"your_report.html\")"
   ]
  },
  {
   "cell_type": "code",
   "execution_count": 25,
   "id": "ca637350",
   "metadata": {},
   "outputs": [
    {
     "data": {
      "application/vnd.jupyter.widget-view+json": {
       "model_id": "",
       "version_major": 2,
       "version_minor": 0
      },
      "text/plain": [
       "Render widgets:   0%|          | 0/1 [00:00<?, ?it/s]"
      ]
     },
     "metadata": {},
     "output_type": "display_data"
    },
    {
     "data": {
      "application/vnd.jupyter.widget-view+json": {
       "model_id": "ffc9994d4c0d4ecc9b0e8862663ab2ed",
       "version_major": 2,
       "version_minor": 0
      },
      "text/plain": [
       "VBox(children=(Tab(children=(Tab(children=(GridBox(children=(VBox(children=(GridspecLayout(children=(HTML(valu…"
      ]
     },
     "metadata": {},
     "output_type": "display_data"
    }
   ],
   "source": [
    "profile.to_widgets()"
   ]
  }
 ],
 "metadata": {
  "kernelspec": {
   "display_name": "Python 3 (ipykernel)",
   "language": "python",
   "name": "python3"
  },
  "language_info": {
   "codemirror_mode": {
    "name": "ipython",
    "version": 3
   },
   "file_extension": ".py",
   "mimetype": "text/x-python",
   "name": "python",
   "nbconvert_exporter": "python",
   "pygments_lexer": "ipython3",
   "version": "3.9.13"
  }
 },
 "nbformat": 4,
 "nbformat_minor": 5
}
