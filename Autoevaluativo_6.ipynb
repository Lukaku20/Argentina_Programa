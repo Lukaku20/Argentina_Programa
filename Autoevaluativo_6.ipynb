{
 "cells": [
  {
   "cell_type": "code",
   "execution_count": 2,
   "id": "6731668a",
   "metadata": {},
   "outputs": [
    {
     "name": "stdout",
     "output_type": "stream",
     "text": [
      "1\n",
      "2\n",
      "multiplo de 3.\n",
      "4\n",
      "multiplo de 5.\n",
      "multiplo de 3.\n",
      "7\n",
      "8\n",
      "multiplo de 3.\n",
      "multiplo de 5.\n",
      "11\n",
      "multiplo de 3.\n",
      "13\n",
      "14\n",
      "multiplo de ambos, de 3 y de 5.\n",
      "16\n",
      "17\n",
      "multiplo de 3.\n",
      "19\n",
      "multiplo de 5.\n",
      "multiplo de 3.\n",
      "22\n"
     ]
    }
   ],
   "source": [
    "for i in range(1, 23):\n",
    "    if i % 3 == 0 and i % 5 == 0:\n",
    "        print('multiplo de ambos, de 3 y de 5.')\n",
    "    elif i % 3 == 0:\n",
    "        print('multiplo de 3.')\n",
    "    elif i % 5 == 0:\n",
    "        print('multiplo de 5.')\n",
    "    else:\n",
    "        print(i)"
   ]
  },
  {
   "cell_type": "code",
   "execution_count": null,
   "id": "dcc3cbd3",
   "metadata": {},
   "outputs": [],
   "source": []
  }
 ],
 "metadata": {
  "kernelspec": {
   "display_name": "Python 3 (ipykernel)",
   "language": "python",
   "name": "python3"
  },
  "language_info": {
   "codemirror_mode": {
    "name": "ipython",
    "version": 3
   },
   "file_extension": ".py",
   "mimetype": "text/x-python",
   "name": "python",
   "nbconvert_exporter": "python",
   "pygments_lexer": "ipython3",
   "version": "3.9.13"
  }
 },
 "nbformat": 4,
 "nbformat_minor": 5
}
