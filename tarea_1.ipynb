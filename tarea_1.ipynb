{
 "cells": [
  {
   "cell_type": "markdown",
   "id": "9ba8f20e",
   "metadata": {},
   "source": [
    "# Ejemplos: tarea 1 - Fundamentos con Python"
   ]
  },
  {
   "cell_type": "code",
   "execution_count": 1,
   "id": "a8411a6c",
   "metadata": {},
   "outputs": [
    {
     "name": "stdout",
     "output_type": "stream",
     "text": [
      "<class 'str'>\n",
      "<class 'int'>\n",
      "<class 'float'>\n",
      "<class 'bool'>\n",
      "<class 'list'>\n",
      "<class 'dict'>\n",
      "<class 'tuple'>\n"
     ]
    }
   ],
   "source": [
    "#Verificando los tipos de datos con la función types\n",
    "print(type('Argentina Programa')) # str\n",
    "print(type(4)) # int\n",
    "print(type(4.0)) # float\n",
    "print(type(True)) # bool\n",
    "print(type([1, 2, 3, 4])) # list\n",
    "print(type({'name':'Argentina Programa','edición':4.0, 'inscriptos':250})) # dict\n",
    "print(type((1,2))) # tuple"
   ]
  },
  {
   "cell_type": "code",
   "execution_count": null,
   "id": "a45daae6",
   "metadata": {},
   "outputs": [],
   "source": [
    "#Operaciones matematicas\n",
    "3+8 #SUMA\n",
    "5-1 #RESTA\n",
    "2*2 #MULTIPLICACION\n",
    "5%2 #MODULO\n",
    "10/2 #DIVISION\n",
    "2**2 #EXPONENTE\n",
    "3//2 #DIVISION_ENTERA"
   ]
  },
  {
   "cell_type": "markdown",
   "id": "efb8c65f",
   "metadata": {},
   "source": [
    "### Datos Personales"
   ]
  },
  {
   "cell_type": "code",
   "execution_count": null,
   "id": "75344a17",
   "metadata": {},
   "outputs": [],
   "source": [
    "\"Lucas\""
   ]
  },
  {
   "cell_type": "code",
   "execution_count": null,
   "id": "6397a538",
   "metadata": {},
   "outputs": [],
   "source": [
    "\"CARBALLO\""
   ]
  },
  {
   "cell_type": "code",
   "execution_count": null,
   "id": "18e8a668",
   "metadata": {},
   "outputs": [],
   "source": [
    "34"
   ]
  },
  {
   "cell_type": "code",
   "execution_count": null,
   "id": "e10bcb60",
   "metadata": {},
   "outputs": [],
   "source": [
    "\"Argentina\""
   ]
  },
  {
   "cell_type": "code",
   "execution_count": null,
   "id": "83d81680",
   "metadata": {},
   "outputs": [],
   "source": [
    "\"Mendoza\""
   ]
  },
  {
   "cell_type": "code",
   "execution_count": null,
   "id": "47566ea9",
   "metadata": {},
   "outputs": [],
   "source": [
    "\"Profesor de historia\", \"Programador\" "
   ]
  },
  {
   "cell_type": "markdown",
   "id": "771f6472",
   "metadata": {},
   "source": [
    "#### Tipos de datos guardados en variables"
   ]
  },
  {
   "cell_type": "code",
   "execution_count": 3,
   "id": "5823ef40",
   "metadata": {},
   "outputs": [],
   "source": [
    "#Ejemplos de tipos de datos\n",
    "a=24 #Entero\n",
    "b=2.5 #Float\n",
    "c=\"Hoy es viernes\" #Cadena\n",
    "d= True #Boolean\n",
    "e=[2,3,4] #Lista\n",
    "f= 4,8,\"telefono\",3.4 #Tupla\n",
    "g={'noelia','lorenzo','lucas'} #conjunto\n",
    "h={'horario':1500, 'tarea':1000} #diccionario"
   ]
  },
  {
   "cell_type": "code",
   "execution_count": 4,
   "id": "5adb54cf",
   "metadata": {},
   "outputs": [
    {
     "name": "stdout",
     "output_type": "stream",
     "text": [
      "<class 'int'>\n",
      "<class 'float'>\n",
      "<class 'float'>\n",
      "<class 'complex'>\n",
      "<class 'list'>\n",
      "<class 'str'>\n"
     ]
    }
   ],
   "source": [
    "#Comprobando tipo de dato\n",
    "print(type(10))\n",
    "print(type(9.8))\n",
    "print(type(3.14))\n",
    "print(type(4-4j))\n",
    "print(type(['A','B','C']))\n",
    "print(type('lUCAS'))"
   ]
  },
  {
   "cell_type": "code",
   "execution_count": 5,
   "id": "35f38e22",
   "metadata": {},
   "outputs": [
    {
     "name": "stdout",
     "output_type": "stream",
     "text": [
      "<function python_version at 0x0000019C6C4B0820>\n"
     ]
    }
   ],
   "source": [
    "from platform import python_version\n",
    "print(python_version)"
   ]
  },
  {
   "cell_type": "code",
   "execution_count": null,
   "id": "b213e428",
   "metadata": {},
   "outputs": [],
   "source": []
  }
 ],
 "metadata": {
  "kernelspec": {
   "display_name": "Python 3 (ipykernel)",
   "language": "python",
   "name": "python3"
  },
  "language_info": {
   "codemirror_mode": {
    "name": "ipython",
    "version": 3
   },
   "file_extension": ".py",
   "mimetype": "text/x-python",
   "name": "python",
   "nbconvert_exporter": "python",
   "pygments_lexer": "ipython3",
   "version": "3.9.13"
  }
 },
 "nbformat": 4,
 "nbformat_minor": 5
}
