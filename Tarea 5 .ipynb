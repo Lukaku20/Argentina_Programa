{
 "cells": [
  {
   "cell_type": "markdown",
   "id": "b0fb7f4d",
   "metadata": {},
   "source": [
    "## Tarea 5 Pasos a la programacion"
   ]
  },
  {
   "cell_type": "markdown",
   "id": "fb38efeb",
   "metadata": {},
   "source": [
    "#### Asignación multiple:\n",
    "Las variables a y b reciben valores por 0 y 1 respectivamente. En la linea siguiente se realiza nuevamente\n",
    "comprobando que las expresiones son evaluadas primero antes de ser asignados los valores.\n",
    "\n",
    "#### Bucle While:\n",
    "El bucle while es una estructura repetitiva que repite la ejecucion de un bloque de condigo 'MIENTRAS' una condicion logica se cumple."
   ]
  },
  {
   "cell_type": "code",
   "execution_count": 1,
   "id": "f5e750a7",
   "metadata": {},
   "outputs": [
    {
     "name": "stdout",
     "output_type": "stream",
     "text": [
      "0\n",
      "1\n",
      "1\n",
      "2\n",
      "3\n",
      "5\n",
      "8\n"
     ]
    }
   ],
   "source": [
    "#Estructura de control WHILE\n",
    "# sucesión de Fibonacci :\n",
    "# la suma de dos elementos define el siguiente\n",
    "a, b = 0, 1\n",
    "while a < 10:\n",
    "    print(a)\n",
    "    a, b = b, a+b\n",
    "    \n"
   ]
  },
  {
   "cell_type": "markdown",
   "id": "bdf52c9d",
   "metadata": {},
   "source": [
    "#### Condicional multiple:\n",
    "Atender a que en la estructura de un condicional multiple. las sentencias If, Elif y Else controlan el flujo del programa\n",
    "pero la condicion en la cual el programa ingresa es sólo una. En el caso de la segunda sentencia elif, se cumple ingresa en esa y termina.\n",
    "\n",
    "#### Operadores lógicos:\n",
    "Las palabras reservadas AND, OR y NOT son los operadores cumplen las funciones de relacionar lógicamente los elementos.\n"
   ]
  },
  {
   "cell_type": "code",
   "execution_count": 8,
   "id": "e35042f9",
   "metadata": {},
   "outputs": [
    {
     "name": "stdout",
     "output_type": "stream",
     "text": [
      " f es sabor y j es 4\n"
     ]
    }
   ],
   "source": [
    "#Estructura de control IF, ELIF, ELSE\n",
    "f = 'sabor'\n",
    "j = 4\n",
    "\n",
    "if f == 'sabor' and j == 5:\n",
    "    print('f es sabor y j es 5')\n",
    "elif f == '' or j == 3:\n",
    "    print(' f no se, pero j es 3')\n",
    "elif f == 'sabor' and j == 4:\n",
    "    print(' f es sabor y j es 4')\n",
    "else:\n",
    "    print('No se que paso aca')\n",
    "    "
   ]
  },
  {
   "cell_type": "markdown",
   "id": "d3f3ff3e",
   "metadata": {},
   "source": [
    "#### Funcion range():\n",
    "El valor final dado nunca es parte de la secuencia; range(10) genera 10 valores, los índices correspondientes para los ítems de una secuencia de longitud 10. Es posible hacer que el rango empiece con otro número, o especificar un incremento diferente (incluso negativo; algunas veces se lo llama “paso”.\n",
    "#### Iterar sobre los indice de una secuencia:\n",
    "Se pueden combinar las funciones *range()* y *len()*"
   ]
  },
  {
   "cell_type": "code",
   "execution_count": 9,
   "id": "042449c9",
   "metadata": {},
   "outputs": [
    {
     "name": "stdout",
     "output_type": "stream",
     "text": [
      "0\n",
      "1\n",
      "2\n"
     ]
    },
    {
     "data": {
      "text/plain": [
       "[0, 5, 10]"
      ]
     },
     "execution_count": 9,
     "metadata": {},
     "output_type": "execute_result"
    }
   ],
   "source": [
    "#La funcion range():\n",
    "for i in range(3):\n",
    "    print(i)\n",
    "    \n",
    "#La funcion genera valores:\n",
    "list(range(0,5))\n",
    "\n",
    "list(range(0, 15, 5))"
   ]
  },
  {
   "cell_type": "code",
   "execution_count": 11,
   "id": "ce6219bd",
   "metadata": {},
   "outputs": [
    {
     "name": "stdout",
     "output_type": "stream",
     "text": [
      "En la posicion 0 : Lucas\n",
      "En la posicion 1 : Noelia\n",
      "En la posicion 2 : Lorenzo\n"
     ]
    }
   ],
   "source": [
    "#combinar la funcion range y len para iterar sobre una secuencia, dada la lista 'n':\n",
    "\n",
    "n = ['Lucas', 'Noelia', 'Lorenzo']\n",
    "for i in range(len(n)):\n",
    "    print(f\"En la posicion {i} : {n[i]}\")"
   ]
  },
  {
   "cell_type": "markdown",
   "id": "5b061608",
   "metadata": {},
   "source": [
    "#### Sentencias *break, continue y else*\n",
    "Las sentencias de bucle pueden tener una cláusula else que es ejecutada cuando el bucle termina, después de agotar el iterable (con for) o cuando la condición se hace falsa (con while), pero no cuando el bucle se termina con la sentencia break."
   ]
  },
  {
   "cell_type": "code",
   "execution_count": 14,
   "id": "3b8ee058",
   "metadata": {},
   "outputs": [
    {
     "name": "stdout",
     "output_type": "stream",
     "text": [
      "2 es numero primo\n",
      "3 es numero primo\n",
      "4 es igual a 2 * 2\n",
      "5 es numero primo\n",
      "6 es igual a 2 * 3\n",
      "7 es numero primo\n",
      "8 es igual a 2 * 4\n",
      "9 es igual a 3 * 3\n"
     ]
    }
   ],
   "source": [
    "#Sentencias BREAK, CONTINUE Y ELSE:\n",
    "for n in range(2, 10):\n",
    "    for x in range(2, n):\n",
    "        if n % x == 0:\n",
    "            print(n,'es igual a', x, '*', n//x)\n",
    "            break\n",
    "    else:\n",
    "        # bucle fracasó sin encontrar un factor\n",
    "        print(n, 'es numero primo')"
   ]
  },
  {
   "cell_type": "markdown",
   "id": "fb3d642d",
   "metadata": {},
   "source": [
    "#### Sentencia pass\n",
    "Otro lugar donde se puede usar pass es como una marca de lugar para una función o un cuerpo condicional cuando estás trabajando en código nuevo, lo cual te permite pensar a un nivel de abstracción mayor. El pass se ignora silenciosamente\n",
    "La sentencia pass no hace nada. Se puede usar cuando una sentencia es requerida por la sintaxis pero el programa no requiere ninguna acción.\n"
   ]
  },
  {
   "cell_type": "code",
   "execution_count": 16,
   "id": "a5923b41",
   "metadata": {},
   "outputs": [],
   "source": [
    "#Sentencia pass usando una clase o una funcion:\n",
    "class MyEmptyClass:\n",
    "    pass\n",
    "\n",
    "def initlog(*args):\n",
    "    pass "
   ]
  },
  {
   "cell_type": "markdown",
   "id": "34ca6804",
   "metadata": {},
   "source": [
    "#### Sentencia *match*:\n",
    "Una sentencia match recibe una expresión y compara su valor con patrones sucesivos dados en uno o más bloques case. Esto es similar a grandes rasgos con una sentencia switch en C, Java o JavaScript (y muchos otros lenguajes) pero es más similar a la comparación de patrones en lenguajes como Rust o Haskell. Sólo se ejecuta el primer patrón que coincide y también es capaz de extraer componentes (elementos de una secuencia o atributos de un objeto) de un valor y ponerlos en variables."
   ]
  },
  {
   "cell_type": "code",
   "execution_count": null,
   "id": "e06c4174",
   "metadata": {},
   "outputs": [],
   "source": []
  }
 ],
 "metadata": {
  "kernelspec": {
   "display_name": "Python 3 (ipykernel)",
   "language": "python",
   "name": "python3"
  },
  "language_info": {
   "codemirror_mode": {
    "name": "ipython",
    "version": 3
   },
   "file_extension": ".py",
   "mimetype": "text/x-python",
   "name": "python",
   "nbconvert_exporter": "python",
   "pygments_lexer": "ipython3",
   "version": "3.9.13"
  }
 },
 "nbformat": 4,
 "nbformat_minor": 5
}
