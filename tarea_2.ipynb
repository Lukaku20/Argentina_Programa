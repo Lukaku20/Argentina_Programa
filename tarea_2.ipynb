{
 "cells": [
  {
   "cell_type": "markdown",
   "id": "19a4c2d5",
   "metadata": {},
   "source": [
    "# Semana 6 - Tarea 2 - Introduccion al analisis de datos por Lucas Carballo"
   ]
  },
  {
   "cell_type": "markdown",
   "id": "fdaad49a",
   "metadata": {},
   "source": [
    "#### A. Plasmar en su cuaderno los ejercicios de ejemplos de los puntos:"
   ]
  },
  {
   "cell_type": "code",
   "execution_count": 1,
   "id": "5a36c247",
   "metadata": {},
   "outputs": [
    {
     "name": "stdout",
     "output_type": "stream",
     "text": [
      "b es multiplo de a\n",
      "\n",
      "Aprobado\n"
     ]
    }
   ],
   "source": [
    "# Estructura IF-ELIF-ELSE\n",
    "a = 10*3\n",
    "b = 5\n",
    "#Ejemplo busca el multiplo\n",
    "if a%b==0 :\n",
    "    print('b es multiplo de a')\n",
    "elif a==b :\n",
    "    print('a y b son iguales')\n",
    "else:\n",
    "    print('b y a no son multiplos')\n",
    "#Ejemplo calificacion   \n",
    "calificacion = 9\n",
    "if calificacion>=7:\n",
    "    print('\\nAprobado')\n",
    "else:\n",
    "    ('\\nDesaprobado')"
   ]
  },
  {
   "cell_type": "code",
   "execution_count": 4,
   "id": "11541f25",
   "metadata": {},
   "outputs": [
    {
     "name": "stdout",
     "output_type": "stream",
     "text": [
      "c vale: 5\n",
      "c vale: 4\n",
      "c vale: 3\n",
      "c vale: 2\n",
      "c vale: 1\n",
      "fin c vale: 0\n"
     ]
    }
   ],
   "source": [
    "# Bucle While\n",
    "c = 5\n",
    "while c>0:\n",
    "    print('c vale: ' + str(c))\n",
    "    c-=1\n",
    "print('fin c vale: ' + str(c))"
   ]
  },
  {
   "cell_type": "code",
   "execution_count": 23,
   "id": "2e5655f7",
   "metadata": {},
   "outputs": [
    {
     "name": "stdout",
     "output_type": "stream",
     "text": [
      "c\n",
      "f\n",
      "a\n",
      "e\n",
      "b\n",
      "d\n",
      "arbol\n",
      "argentino\n",
      "24\n"
     ]
    }
   ],
   "source": [
    "#Bucle For/in\n",
    "lista={'a','b','c','d','e','f'}\n",
    "for item in lista:\n",
    "    print(item)\n",
    "\n",
    "tupla=('arbol','argentino',24)\n",
    "for item in tupla:\n",
    "    print(item)\n",
    "    \n",
    "    "
   ]
  },
  {
   "cell_type": "markdown",
   "id": "04ddb9c3",
   "metadata": {},
   "source": [
    "#### B. Crear un algoritmo que permita ingresar un valor por teclado, comprobar si es un número\n",
    "#### o una cadena"
   ]
  },
  {
   "cell_type": "code",
   "execution_count": 2,
   "id": "571caa7e",
   "metadata": {},
   "outputs": [
    {
     "name": "stdout",
     "output_type": "stream",
     "text": [
      "\n",
      "Ingrese un dato: hola\n",
      "<class 'str'>\n",
      "Es un texto\n"
     ]
    }
   ],
   "source": [
    "print()\n",
    "g = input('Ingrese un dato: ')\n",
    "print(type(g))\n",
    "\n",
    "if g.isnumeric():\n",
    "    print('Es un numero')\n",
    "else:\n",
    "    print('Es un texto')\n",
    "\n"
   ]
  },
  {
   "cell_type": "markdown",
   "id": "b73e7714",
   "metadata": {},
   "source": [
    "#### C. Cree un algoritmo que permita crear una lista, una tupla y un diccionario según los datos\n",
    "#### ingresados por el usuario."
   ]
  },
  {
   "cell_type": "code",
   "execution_count": 34,
   "id": "55f4675c",
   "metadata": {},
   "outputs": [
    {
     "name": "stdout",
     "output_type": "stream",
     "text": [
      "Ingresa un dato: apu\n",
      "segundo dato: moe\n",
      "tercer dato: 60\n",
      "['apu', 'moe', '60']\n",
      "('apu', 'moe', '60')\n",
      "{'uno': 'apu', 'dos': 'moe', 'tres': '60'}\n"
     ]
    }
   ],
   "source": [
    "a = input('Ingresa un dato: ')\n",
    "b = input('segundo dato: ')\n",
    "c = input('tercer dato: ')\n",
    "\n",
    "#Crear una lista, una tupla y un diccionario en un algoritmo\n",
    "\n",
    "lista =[a,b,c]\n",
    "tupla = (a,b,c)\n",
    "dicc ={'uno': a, 'dos': b, 'tres': c}\n",
    "\n",
    "print(lista)\n",
    "print(tupla)\n",
    "print(dicc)"
   ]
  },
  {
   "cell_type": "markdown",
   "id": "bc98ef48",
   "metadata": {},
   "source": [
    "#### D. De acuerdo la siguiente lista [2,5,”jujuy”,9,”abc”,123] buscamos un elemento aplicando las\n",
    "#### estructuras condicionales y la estructura while"
   ]
  },
  {
   "cell_type": "code",
   "execution_count": 22,
   "id": "0070e706",
   "metadata": {},
   "outputs": [
    {
     "name": "stdout",
     "output_type": "stream",
     "text": [
      "[2, 5, 'jujuy', 9, 'abc', 123]\n",
      "Ingresa el elemento a buscar: jujuy\n",
      "El elemento esta en la lista\n"
     ]
    }
   ],
   "source": [
    "lista=[2,5,'jujuy',9,'abc',123]\n",
    "print(lista)\n",
    "j = input('Ingresa el elemento a buscar: ')\n",
    "i = 0\n",
    "encontrado = False\n",
    "#separamos funciones detectando si buscamos un numero o una cadena\n",
    "if j.isnumeric(): \n",
    "    while i < len(lista):\n",
    "        if lista[i] == int(j):\n",
    "            encontrado = True\n",
    "        i+=1\n",
    "else:\n",
    "    while i < len(lista):\n",
    "        if lista[i] == j:\n",
    "            encontrado = True\n",
    "        i+=1\n",
    "#ahora validamos la variable booleana\n",
    "if encontrado==True:\n",
    "    print('El elemento esta en la lista')\n",
    "else:\n",
    "    print('El elemento no esta en la lista')\n",
    "\n",
    "\n"
   ]
  },
  {
   "cell_type": "markdown",
   "id": "d32814b9",
   "metadata": {},
   "source": [
    "#### E. Aplique la estructura for para determinar la posición de un elemento de acuerdo a una\n",
    "#### lista generada por el usuario"
   ]
  },
  {
   "cell_type": "code",
   "execution_count": 25,
   "id": "d2b7e7f0",
   "metadata": {},
   "outputs": [
    {
     "name": "stdout",
     "output_type": "stream",
     "text": [
      "Cuantos elementos tiene tu lista 3\n",
      "Ingrese el elemento a la lista noelia\n",
      "Ingrese el elemento a la lista lolo\n",
      "Ingrese el elemento a la lista lucas\n",
      "Ingrese elemento a buscar: lolo\n",
      "El elemento esta en la posicion 1\n",
      "Fue hallado\n"
     ]
    }
   ],
   "source": [
    "lista =[]\n",
    "encontrado=False\n",
    "x = int(input('Cuantos elementos tiene tu lista '))\n",
    "for i in range(x):\n",
    "    elemento = input('Ingrese el elemento a la lista ')\n",
    "    lista.append(elemento)\n",
    "buscado = input('Ingrese elemento a buscar: ')\n",
    "for i in range(len(lista)):\n",
    "    if lista[i] == buscado:\n",
    "        print('El elemento esta en la posicion ' + str(i))\n",
    "        encontrado=True\n",
    "if encontrado:\n",
    "    print('Fue hallado')\n",
    "else:\n",
    "    print('No fue hallado')"
   ]
  },
  {
   "cell_type": "markdown",
   "id": "5a089861",
   "metadata": {},
   "source": [
    "#### F. Crear un algoritmo que permita transformar un texto sin formato a un\n",
    "#### formato legible"
   ]
  },
  {
   "cell_type": "code",
   "execution_count": 30,
   "id": "46f5ff8c",
   "metadata": {},
   "outputs": [
    {
     "name": "stdout",
     "output_type": "stream",
     "text": [
      "LOREM IPSUM DOLOR SIT AMET, CONSECTETUR ADIPISCING ELIT. NULLAM SED SUSCIPIT FELIS. FUSCE NON AUGUE ORCI. PRAESENT AT ENIM QUIS NISL ORNARE PULVINAR. DONEC MOLESTIE HENDRERIT ARCU, NEC MOLESTIE PURUS FACILISIS AC. VESTIBULUM QUIS NULLA QUIS NIBH IACULIS FINIBUS. SED PULVINAR, SAPIEN ET FAUCIBUS MAXIMUS, SEM MI MATTIS NULLA, A. "
     ]
    }
   ],
   "source": [
    "texto = '''  Lorem ipsum dolor sit amet,\n",
    "consectetur adipiscing elit. Nullam sed\n",
    "suscipit felis. FUSce non augue\n",
    "orci. Praesent at enim quis nisl ornare\n",
    "PuLvinar. DonEC molestiE hendrerit arcu,\n",
    "nEc molestie purUS Facilisis ac.\n",
    "VesTIbulum         quis nulla quis\n",
    "niBh iaculis FINIBUS. Sed pulvinar, sapien\n",
    "et faUcibus mAximus, sem mi mattis nulla,\n",
    "a.  '''.strip().upper()\n",
    "lista=texto.split()\n",
    "for i in lista:\n",
    "    print(i, end =\" \")\n"
   ]
  },
  {
   "cell_type": "code",
   "execution_count": null,
   "id": "71276331",
   "metadata": {},
   "outputs": [],
   "source": []
  }
 ],
 "metadata": {
  "kernelspec": {
   "display_name": "Python 3 (ipykernel)",
   "language": "python",
   "name": "python3"
  },
  "language_info": {
   "codemirror_mode": {
    "name": "ipython",
    "version": 3
   },
   "file_extension": ".py",
   "mimetype": "text/x-python",
   "name": "python",
   "nbconvert_exporter": "python",
   "pygments_lexer": "ipython3",
   "version": "3.9.13"
  }
 },
 "nbformat": 4,
 "nbformat_minor": 5
}
